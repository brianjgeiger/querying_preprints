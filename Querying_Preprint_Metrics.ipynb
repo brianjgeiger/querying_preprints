{
 "cells": [
  {
   "cell_type": "markdown",
   "metadata": {},
   "source": [
    "# Querying Preprint Metrics!\n",
    "\n",
    "This notebook will contain examples of how to use the preprint date analytics endpoints developed for the Sloan grant. "
   ]
  },
  {
   "cell_type": "markdown",
   "metadata": {},
   "source": [
    "# Main API Queries\n",
    "\n",
    "First, we'll focus on making queries to the main views and downloads endpoints. The request is controlled by adding various query parameters at the end of the URL. To add the first query param, add a \"?\" to the end of the url, followed by the param name, an \"=\", and the value. So to look for downloads metrics for the preprint with the guid `abcde`, your URL would look like:\n",
    "\n",
    "`/v2/metrics/preprints/downloads/?guids=abcde`\n",
    "\n",
    "To add a second query param to the URL, add a \"&\" and follow the same pattern. To then look for metrics for this guid on the date `2019-01-01`, your URL would look like:\n",
    "\n",
    "`/v2/metrics/preprints/downloads/?guids=abcde&on_date=2019-01-01`\n",
    "\n",
    "Query params:\n",
    "\n",
    "- `guids`: The guids, seperated by commas, to request metrics for\n",
    "\n",
    "- `on_date`: metrics for this specific day. If you include an on_date, you cannot include other date parameters. Must be in the format of `YYYY-MM-DD`\n",
    "\n",
    "- `start_datetime`: restrict the results to starting on this datetime. Can either be in the format `YYYY-MM-DD` and results will start at midnight of that day, or `YYYY-MM-DDThh:mm` where h and m are the hour and minute. If you provide a start datetime with no end datetime, the end datetime will default to a full day ago at 11:59pm UTC. If you provide a start or end datetime including minutes, the other value must also include minutes.\n",
    "\n",
    "- `end_datetime`: restrict the results to ending on this date. You cannot provide an `end_datetime` with no start datetime. See formatting rules for `start_datetime` for more specifics.\n",
    "\n",
    "- `interval`: how fine grained you'd like the results you'd like to be returned to you. To see what you can enter in this section, check out [the elasticsearch docs on intervals](https://www.elastic.co/guide/en/elasticsearch/reference/current/_intervals.html)\n",
    "\n",
    "\n",
    "If no time period is specified, metrics will be returned for the previous 5 full days - 6 days ago at midnight UTC to one day ago at 11:59pm UTC.\n"
   ]
  },
  {
   "cell_type": "markdown",
   "metadata": {},
   "source": [
    "# Query Examples\n",
    "\n",
    "In the following cells, replace the variables with ones you'd like to use."
   ]
  },
  {
   "cell_type": "code",
   "execution_count": 1,
   "metadata": {},
   "outputs": [],
   "source": [
    "# python setup \n",
    "import os\n",
    "import json\n",
    "\n",
    "import requests"
   ]
  },
  {
   "cell_type": "code",
   "execution_count": 2,
   "metadata": {},
   "outputs": [],
   "source": [
    "# Change me! Uncomment and/or change the variables you'd like to use\n",
    "METRICS_BASE = 'http://localhost:8000/v2/metrics/preprints/'\n",
    "# METRICS_BASE = 'https://api.osf.io/v2/metrics/preprints/'  \n",
    "TOKEN = os.environ['LOCAL_OSF_TOKEN']\n",
    "# TOKEN = os.environ['LOCAL_HENRIQUE_OSF_TOKEN']\n",
    "# LOCAL_TOKEN = 'thisismylongstringthatisanosftokenyoucancreatefromosfsettings'\n",
    "\n",
    "headers = {\n",
    "    'Content-Type': 'application/vnd.api+json',\n",
    "    'Authorization': 'Bearer {}'.format(TOKEN)\n",
    "}\n",
    "\n",
    "SINGLE_PREPRINT_GUID = 'v5ek2'\n",
    "WITHDRAWN_PREPRINT_GUID = 'hg89q'\n",
    "LIST_OF_GUIDS =  ['v5ek2', 'uezay', 'hp2c7', 'hg89q', 'xsyhz', 'gz7h6', '2zp9c', 'aehb5']"
   ]
  },
  {
   "cell_type": "code",
   "execution_count": 3,
   "metadata": {},
   "outputs": [
    {
     "name": "stdout",
     "output_type": "stream",
     "text": [
      "Request URL was: http://localhost:8000/v2/metrics/preprints/downloads/?guids=v5ek2\n",
      "{\n",
      "    \"metric_type\": \"downloads\",\n",
      "    \"data\": [\n",
      "        {\n",
      "            \"2019-03-01T00:00:00.000Z\": {\n",
      "                \"v5ek2\": 17\n",
      "            }\n",
      "        },\n",
      "        {\n",
      "            \"2019-03-02T00:00:00.000Z\": {\n",
      "                \"v5ek2\": 10\n",
      "            }\n",
      "        },\n",
      "        {\n",
      "            \"2019-03-03T00:00:00.000Z\": {\n",
      "                \"v5ek2\": 13\n",
      "            }\n",
      "        },\n",
      "        {\n",
      "            \"2019-03-04T00:00:00.000Z\": {\n",
      "                \"v5ek2\": 10\n",
      "            }\n",
      "        },\n",
      "        {\n",
      "            \"2019-03-05T00:00:00.000Z\": {\n",
      "                \"v5ek2\": 3\n",
      "            }\n",
      "        }\n",
      "    ]\n",
      "}\n"
     ]
    }
   ],
   "source": [
    "# get download results for one preprint from the past 5 full days\n",
    "url = '{}downloads/?guids={}'.format(METRICS_BASE, SINGLE_PREPRINT_GUID)\n",
    "res = requests.get(url, headers=headers)\n",
    "\n",
    "print('Request URL was: {}'.format(url))\n",
    "print(json.dumps(res.json(), indent=4))\n"
   ]
  },
  {
   "cell_type": "code",
   "execution_count": 4,
   "metadata": {},
   "outputs": [
    {
     "name": "stdout",
     "output_type": "stream",
     "text": [
      "Request URL was: http://localhost:8000/v2/metrics/preprints/views/?guids=v5ek2&on_date=2019-03-01\n",
      "{\n",
      "    \"metric_type\": \"views\",\n",
      "    \"data\": [\n",
      "        {\n",
      "            \"2019-03-01T00:00:00.000Z\": {\n",
      "                \"v5ek2\": 17\n",
      "            }\n",
      "        }\n",
      "    ]\n",
      "}\n"
     ]
    }
   ],
   "source": [
    "# get view results from March 1, 2019\n",
    "url = '{}views/?guids={}&on_date=2019-03-01'.format(METRICS_BASE, SINGLE_PREPRINT_GUID)\n",
    "res = requests.get(url, headers=headers)\n",
    "\n",
    "print('Request URL was: {}'.format(url))\n",
    "print(json.dumps(res.json(), indent=4))\n"
   ]
  },
  {
   "cell_type": "code",
   "execution_count": 5,
   "metadata": {},
   "outputs": [
    {
     "name": "stdout",
     "output_type": "stream",
     "text": [
      "Request URL was: http://localhost:8000/v2/metrics/preprints/views/?guids=v5ek2&start_datetime=2019-03-01\n",
      "{\n",
      "    \"metric_type\": \"views\",\n",
      "    \"data\": [\n",
      "        {\n",
      "            \"2019-03-01T00:00:00.000Z\": {\n",
      "                \"v5ek2\": 17\n",
      "            }\n",
      "        },\n",
      "        {\n",
      "            \"2019-03-02T00:00:00.000Z\": {\n",
      "                \"v5ek2\": 10\n",
      "            }\n",
      "        },\n",
      "        {\n",
      "            \"2019-03-03T00:00:00.000Z\": {\n",
      "                \"v5ek2\": 13\n",
      "            }\n",
      "        },\n",
      "        {\n",
      "            \"2019-03-04T00:00:00.000Z\": {\n",
      "                \"v5ek2\": 10\n",
      "            }\n",
      "        },\n",
      "        {\n",
      "            \"2019-03-05T00:00:00.000Z\": {\n",
      "                \"v5ek2\": 3\n",
      "            }\n",
      "        }\n",
      "    ]\n",
      "}\n"
     ]
    }
   ],
   "source": [
    "# get view results from March 1, 2019 to today\n",
    "url = '{}views/?guids={}&start_datetime=2019-03-01'.format(METRICS_BASE, SINGLE_PREPRINT_GUID)\n",
    "res = requests.get(url, headers=headers)\n",
    "\n",
    "print('Request URL was: {}'.format(url))\n",
    "print(json.dumps(res.json(), indent=4))\n",
    "\n"
   ]
  },
  {
   "cell_type": "code",
   "execution_count": 6,
   "metadata": {},
   "outputs": [
    {
     "name": "stdout",
     "output_type": "stream",
     "text": [
      "Request URL was: http://localhost:8000/v2/metrics/preprints/views/?guids=v5ek2&start_datetime=2019-03-01&end_datetime=2019-03-02\n",
      "{\n",
      "    \"metric_type\": \"views\",\n",
      "    \"data\": [\n",
      "        {\n",
      "            \"2019-03-01T00:00:00.000Z\": {\n",
      "                \"v5ek2\": 17\n",
      "            }\n",
      "        },\n",
      "        {\n",
      "            \"2019-03-02T00:00:00.000Z\": {\n",
      "                \"v5ek2\": 10\n",
      "            }\n",
      "        }\n",
      "    ]\n",
      "}\n"
     ]
    }
   ],
   "source": [
    "# get view results from March 1, 2019 to March 2, 2019\n",
    "url = '{}views/?guids={}&start_datetime=2019-03-01&end_datetime=2019-03-02'.format(METRICS_BASE, SINGLE_PREPRINT_GUID)\n",
    "res = requests.get(url, headers=headers)\n",
    "\n",
    "print('Request URL was: {}'.format(url))\n",
    "print(json.dumps(res.json(), indent=4))\n",
    "\n"
   ]
  },
  {
   "cell_type": "code",
   "execution_count": 7,
   "metadata": {},
   "outputs": [
    {
     "name": "stdout",
     "output_type": "stream",
     "text": [
      "Request URL was: http://localhost:8000/v2/metrics/preprints/views/?guids=v5ek2&start_datetime=2019-03-01T01:00&end_datetime=2019-03-01T01:30&interval=5m\n",
      "{\n",
      "    \"metric_type\": \"views\",\n",
      "    \"data\": [\n",
      "        {\n",
      "            \"2019-03-01T01:00:00.000Z\": {\n",
      "                \"v5ek2\": 1\n",
      "            }\n",
      "        },\n",
      "        {\n",
      "            \"2019-03-01T01:05:00.000Z\": {\n",
      "                \"v5ek2\": 3\n",
      "            }\n",
      "        },\n",
      "        {\n",
      "            \"2019-03-01T01:10:00.000Z\": {\n",
      "                \"v5ek2\": 0\n",
      "            }\n",
      "        },\n",
      "        {\n",
      "            \"2019-03-01T01:15:00.000Z\": {\n",
      "                \"v5ek2\": 0\n",
      "            }\n",
      "        },\n",
      "        {\n",
      "            \"2019-03-01T01:20:00.000Z\": {\n",
      "                \"v5ek2\": 0\n",
      "            }\n",
      "        },\n",
      "        {\n",
      "            \"2019-03-01T01:25:00.000Z\": {\n",
      "                \"v5ek2\": 1\n",
      "            }\n",
      "        }\n",
      "    ]\n",
      "}\n"
     ]
    }
   ],
   "source": [
    "# get view results from March 1, 2019 at 1:00am UTC to March 1, 2019 at 1:30am UTC by 5 min intervals\n",
    "url = '{}views/?guids={}&start_datetime=2019-03-01T01:00&end_datetime=2019-03-01T01:30&interval=5m'.format(METRICS_BASE, SINGLE_PREPRINT_GUID)\n",
    "res = requests.get(url, headers=headers)\n",
    "\n",
    "print('Request URL was: {}'.format(url))\n",
    "print(json.dumps(res.json(), indent=4))\n"
   ]
  },
  {
   "cell_type": "code",
   "execution_count": 8,
   "metadata": {},
   "outputs": [
    {
     "name": "stdout",
     "output_type": "stream",
     "text": [
      "Request URL was: http://localhost:8000/v2/metrics/preprints/views/?guids=hg89q&start_datetime=2019-03-01\n",
      "{\n",
      "    \"metric_type\": \"views\",\n",
      "    \"data\": [\n",
      "        {\n",
      "            \"2019-03-01T00:00:00.000Z\": {\n",
      "                \"hg89q\": 7\n",
      "            }\n",
      "        },\n",
      "        {\n",
      "            \"2019-03-02T00:00:00.000Z\": {\n",
      "                \"hg89q\": 7\n",
      "            }\n",
      "        },\n",
      "        {\n",
      "            \"2019-03-03T00:00:00.000Z\": {\n",
      "                \"hg89q\": 7\n",
      "            }\n",
      "        },\n",
      "        {\n",
      "            \"2019-03-04T00:00:00.000Z\": {\n",
      "                \"hg89q\": 7\n",
      "            }\n",
      "        },\n",
      "        {\n",
      "            \"2019-03-05T00:00:00.000Z\": {\n",
      "                \"hg89q\": 3\n",
      "            }\n",
      "        }\n",
      "    ]\n",
      "}\n"
     ]
    }
   ],
   "source": [
    "# Access metrics for a withdrawn preprint from March 1, 2019 to yesterday at 11:59pm UTC\n",
    "url = '{}views/?guids={}&start_datetime=2019-03-01'.format(METRICS_BASE, WITHDRAWN_PREPRINT_GUID)\n",
    "res = requests.get(url, headers=headers)\n",
    "\n",
    "print('Request URL was: {}'.format(url))\n",
    "print(json.dumps(res.json(), indent=4))\n",
    "\n"
   ]
  },
  {
   "cell_type": "markdown",
   "metadata": {},
   "source": [
    "# Advanced Query Examples\n",
    "\n",
    "The preprint metrics API also allows `POST` requests containing more complicated raw queries for preprint metrics. These requests are made to just the bare `/v2/metrics/preprints/views/` and `/v2/metrics/preprints/downloads/` endpoints, without any query parameters. All of the data for the query is contained in a JSON object included in the request's `POST` data.\n",
    "\n",
    "These queries can be anything at all conforming to [the elasticsearch query DSL](https://www.elastic.co/guide/en/elasticsearch/reference/current/query-dsl.html), so there are many, many options not just limited to what you see here. \n",
    "\n",
    "Results will be formatted in the raw elasticsearch format, and so won't conform to the specific format outlined above.\n",
    "\n",
    "From the [official preprint metrics docs](https://www.notion.so/cos/Impact-API-documentation-6d7c638c0cb642f8989287a1794580b2), each data point is stored with the following fields:\n",
    "\n",
    "- timestamp\n",
    "- provider_id, e.g. \"socarxiv\"\n",
    "- preprint_id, e.g. \"qmdc4\"\n",
    "- user_id, e.g. \"q7fts\"\n",
    "- version (file version)\n",
    "- path\n",
    "\n",
    "You can use any of those fields when building a custom query. Note, you'll have to add \"keyword\" to queries for `path`, `provider_id`, or `preprint_id` - see examples below.\n",
    "\n"
   ]
  },
  {
   "cell_type": "code",
   "execution_count": 9,
   "metadata": {},
   "outputs": [
    {
     "data": {
      "text/plain": [
       "[{'key_as_string': '2016-01-01T00:00:00.000Z',\n",
       "  'key': 1451606400000,\n",
       "  'doc_count': 51},\n",
       " {'key_as_string': '2017-01-01T00:00:00.000Z',\n",
       "  'key': 1483228800000,\n",
       "  'doc_count': 186},\n",
       " {'key_as_string': '2018-01-01T00:00:00.000Z',\n",
       "  'key': 1514764800000,\n",
       "  'doc_count': 130},\n",
       " {'key_as_string': '2019-01-01T00:00:00.000Z',\n",
       "  'key': 1546300800000,\n",
       "  'doc_count': 4055}]"
      ]
     },
     "execution_count": 9,
     "metadata": {},
     "output_type": "execute_result"
    }
   ],
   "source": [
    "post_url = '{}downloads/'.format(METRICS_BASE)  # TODO - here's where to leave off\n",
    "\n",
    "# total preprint downloads per year\n",
    "query = {\n",
    "    \"aggs\" : {\n",
    "        \"preprints_over_time\" : {\n",
    "            \"date_histogram\" : {\n",
    "                \"field\" : \"timestamp\",\n",
    "                \"interval\" : \"year\"\n",
    "            }\n",
    "        }\n",
    "    }\n",
    "}\n",
    "\n",
    "payload = {\n",
    "    'data': {\n",
    "        'type': 'preprint_metrics',\n",
    "        'attributes': {\n",
    "            'query': query\n",
    "        }\n",
    "    }\n",
    "}\n",
    "\n",
    "\n",
    "res = requests.post(post_url, headers=headers, json=payload)\n",
    "res.json()['aggregations']['preprints_over_time']['buckets']\n",
    "\n"
   ]
  },
  {
   "cell_type": "code",
   "execution_count": 10,
   "metadata": {},
   "outputs": [
    {
     "data": {
      "text/plain": [
       "[{'key_as_string': '2017-01-01T00:00:00.000Z',\n",
       "  'key': 1483228800000,\n",
       "  'doc_count': 18},\n",
       " {'key_as_string': '2017-02-01T00:00:00.000Z',\n",
       "  'key': 1485907200000,\n",
       "  'doc_count': 0},\n",
       " {'key_as_string': '2017-03-01T00:00:00.000Z',\n",
       "  'key': 1488326400000,\n",
       "  'doc_count': 0},\n",
       " {'key_as_string': '2017-04-01T00:00:00.000Z',\n",
       "  'key': 1491004800000,\n",
       "  'doc_count': 0},\n",
       " {'key_as_string': '2017-05-01T00:00:00.000Z',\n",
       "  'key': 1493596800000,\n",
       "  'doc_count': 2},\n",
       " {'key_as_string': '2017-06-01T00:00:00.000Z',\n",
       "  'key': 1496275200000,\n",
       "  'doc_count': 2},\n",
       " {'key_as_string': '2017-07-01T00:00:00.000Z',\n",
       "  'key': 1498867200000,\n",
       "  'doc_count': 0},\n",
       " {'key_as_string': '2017-08-01T00:00:00.000Z',\n",
       "  'key': 1501545600000,\n",
       "  'doc_count': 6}]"
      ]
     },
     "execution_count": 10,
     "metadata": {},
     "output_type": "execute_result"
    }
   ],
   "source": [
    "# see views/downloads broken down by month for one provider\n",
    "# restricted to one year\n",
    "query = {\n",
    "    \"query\": {\n",
    "        \"term\": {\"provider_id.keyword\": \"psyarxiv\"}\n",
    "    },\n",
    "    \"aggs\" : {\n",
    "        \"preprints_from_2017\": {\n",
    "            \"filter\": {\n",
    "                \"range\" : {\n",
    "                    \"timestamp\" : {\n",
    "                        \"gte\" : \"2017-01-01\",\n",
    "                        \"lt\" : \"2017-12-31\"\n",
    "                    }\n",
    "                }\n",
    "            },\n",
    "            \"aggs\": {\n",
    "                \"preprints_per_month\" : {\n",
    "                    \"date_histogram\" : {\n",
    "                        \"field\" : \"timestamp\",\n",
    "                        \"interval\" : \"month\"\n",
    "                    }\n",
    "                }\n",
    "            }\n",
    "        }\n",
    "    }\n",
    "}\n",
    "\n",
    "\n",
    "payload = {\n",
    "    'data': {\n",
    "        'type': 'preprint_metrics',\n",
    "        'attributes': {\n",
    "            'query': query\n",
    "        }\n",
    "    }\n",
    "}\n",
    "\n",
    "res = requests.post(post_url, headers=headers, json=payload)\n",
    "res.json()['aggregations']['preprints_from_2017']['preprints_per_month']['buckets']\n"
   ]
  },
  {
   "cell_type": "code",
   "execution_count": 11,
   "metadata": {},
   "outputs": [
    {
     "data": {
      "text/plain": [
       "[{'key_as_string': '2017-01-01T00:00:00.000Z',\n",
       "  'key': 1483228800000,\n",
       "  'doc_count': 24},\n",
       " {'key_as_string': '2018-01-01T00:00:00.000Z',\n",
       "  'key': 1514764800000,\n",
       "  'doc_count': 24},\n",
       " {'key_as_string': '2019-01-01T00:00:00.000Z',\n",
       "  'key': 1546300800000,\n",
       "  'doc_count': 4050}]"
      ]
     },
     "execution_count": 11,
     "metadata": {},
     "output_type": "execute_result"
    }
   ],
   "source": [
    "# downloads that come from logged in users\n",
    "logged_in_query = {\n",
    "    \"query\": {\n",
    "         \"exists\" : { \"field\" : \"user_id\" }\n",
    "    },\n",
    "    \"size\": 0,\n",
    "    \"aggs\" : {\n",
    "        \"preprints_per_year\" : {\n",
    "            \"date_histogram\" : {\n",
    "                \"field\" : \"timestamp\",\n",
    "                \"interval\" : \"year\"\n",
    "            }\n",
    "        }\n",
    "    }\n",
    "}\n",
    "\n",
    "\n",
    "payload = {\n",
    "    'data': {\n",
    "        'type': 'preprint_metrics',\n",
    "        'attributes': {\n",
    "            'query': logged_in_query\n",
    "        }\n",
    "    }\n",
    "}\n",
    "\n",
    "res = requests.post(post_url, headers=headers, json=payload)\n",
    "res.json()['aggregations']['preprints_per_year']['buckets']\n",
    "\n"
   ]
  },
  {
   "cell_type": "code",
   "execution_count": 12,
   "metadata": {},
   "outputs": [
    {
     "data": {
      "text/plain": [
       "[{'key_as_string': '2016-01-01T00:00:00.000Z',\n",
       "  'key': 1451606400000,\n",
       "  'doc_count': 51},\n",
       " {'key_as_string': '2017-01-01T00:00:00.000Z',\n",
       "  'key': 1483228800000,\n",
       "  'doc_count': 162},\n",
       " {'key_as_string': '2018-01-01T00:00:00.000Z',\n",
       "  'key': 1514764800000,\n",
       "  'doc_count': 106},\n",
       " {'key_as_string': '2019-01-01T00:00:00.000Z',\n",
       "  'key': 1546300800000,\n",
       "  'doc_count': 5}]"
      ]
     },
     "execution_count": 12,
     "metadata": {},
     "output_type": "execute_result"
    }
   ],
   "source": [
    "# downloads that come from NON-logged in users\n",
    "logged_out_query = {\n",
    "    \"query\": {\n",
    "        \"bool\": {\n",
    "            \"must_not\": {\n",
    "                \"exists\": {\n",
    "                    \"field\": \"user_id\"\n",
    "                }\n",
    "            }\n",
    "        }\n",
    "    },\n",
    "    \"size\": 0,\n",
    "    \"aggs\" : {\n",
    "        \"preprints_per_year\" : {\n",
    "            \"date_histogram\" : {\n",
    "                \"field\" : \"timestamp\",\n",
    "                \"interval\" : \"year\"\n",
    "            }\n",
    "        }\n",
    "    }\n",
    "}\n",
    "\n",
    "\n",
    "payload = {\n",
    "    'data': {\n",
    "        'type': 'preprint_metrics',\n",
    "        'attributes': {\n",
    "            'query': logged_out_query\n",
    "        }\n",
    "    }\n",
    "}\n",
    "\n",
    "res = requests.post(post_url, headers=headers, json=payload)\n",
    "res.json()['aggregations']['preprints_per_year']['buckets']\n",
    "\n"
   ]
  },
  {
   "cell_type": "markdown",
   "metadata": {},
   "source": [
    "# Notes and Extras\n",
    "\n",
    "Code below here is for reference, or to run little one off adjustments in the terminal for adding more metrics.\n",
    "\n",
    "It's commented out because it won't run in this notebook \"as is\" and would need adjustment by whomever was running it for local testing purposes."
   ]
  },
  {
   "cell_type": "code",
   "execution_count": 13,
   "metadata": {},
   "outputs": [],
   "source": [
    "# A little bit of code to add views and downloads to certain preprints for a developer\n",
    "# uncomment, adjust, and run me in an interactive shell to add views/downloads\n",
    "\n",
    "# from datetime import datetime\n",
    "\n",
    "# from osf.metrics import PreprintView, PreprintDownload\n",
    "# from osf.models import Preprint\n",
    "\n",
    "# me = OSFUser.objects.get(username='erin@cos.io')\n",
    "# user_to_use = OSFUser.objects.get(username='henrique@cos.io')\n",
    "\n",
    "# metric_dates = ['2017-01-01', '2018-01-02', '2019-01-03']\n",
    "# times = ['T00:00', 'T01:00', 'T02:00']\n",
    "\n",
    "# preps = [Preprint.load('ythm7'), Preprint.load('h5rgp'), Preprint.load('e3fq4')]\n",
    "\n",
    "# metrics = [PreprintView, PreprintDownload]\n",
    "# for preprint_to_add in preps:\n",
    "#     for metric in metrics:\n",
    "#         for date in metric_dates:\n",
    "#             for time in times:\n",
    "#                 metric.record_for_preprint(\n",
    "#                     preprint=preprint_to_add,\n",
    "#                     user=user_to_use,\n",
    "#                     path=preprint_to_add.primary_file.path,\n",
    "#                     timestamp=datetime.strptime(date + time, '%Y-%m-%dT%H:%M')\n",
    "#                 )"
   ]
  }
 ],
 "metadata": {
  "kernelspec": {
   "display_name": "Python 3",
   "language": "python",
   "name": "python3"
  },
  "language_info": {
   "codemirror_mode": {
    "name": "ipython",
    "version": 3
   },
   "file_extension": ".py",
   "mimetype": "text/x-python",
   "name": "python",
   "nbconvert_exporter": "python",
   "pygments_lexer": "ipython3",
   "version": "3.6.4"
  }
 },
 "nbformat": 4,
 "nbformat_minor": 2
}
